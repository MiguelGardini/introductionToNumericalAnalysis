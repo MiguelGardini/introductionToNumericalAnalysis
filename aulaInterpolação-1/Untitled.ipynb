{
 "cells": [
  {
   "cell_type": "markdown",
   "metadata": {},
   "source": [
    "## Polinômio de Taylor"
   ]
  },
  {
   "cell_type": "markdown",
   "metadata": {},
   "source": [
    "Aproximação da função original f para um polinômio"
   ]
  },
  {
   "cell_type": "markdown",
   "metadata": {},
   "source": [
    "$P_n(x) = f(x_0) + f'(x_0)(x-x_0) + f''(x_0)\\frac{(x-x_0)^2}{2!} +... + f^n(x_0)\\frac{(x-x_0)^n}{n!}$"
   ]
  },
  {
   "cell_type": "code",
   "execution_count": 32,
   "metadata": {},
   "outputs": [],
   "source": [
    "#Calcula o resultado do polinômio de taylor \n",
    "\n",
    "import math\n",
    "f =( lambda x,x0,d,n : d*math.pow(x-x0,n)/math.factorial(n))\n",
    "taylor = lambda x,x0,D : sum(f(x,x0,d,index) for index,d in enumerate(D))\n"
   ]
  },
  {
   "cell_type": "code",
   "execution_count": 33,
   "metadata": {},
   "outputs": [
    {
     "data": {
      "text/plain": [
       "88.0"
      ]
     },
     "execution_count": 33,
     "metadata": {},
     "output_type": "execute_result"
    }
   ],
   "source": [
    "#Exemplo para n=3 , x0 = 0, x=3\n",
    "#f =1 + 2x - 3x**2 + 4x**3\n",
    "D = [1,2,-6,4*3*2]\n",
    "taylor(3,0,D)"
   ]
  },
  {
   "cell_type": "markdown",
   "metadata": {},
   "source": [
    "$erro = |f(x) - P_n(x)| \\leq |\\frac{(x-x_0)^{n+1}}{(n+1)!}|$"
   ]
  },
  {
   "cell_type": "markdown",
   "metadata": {},
   "source": [
    "## Polinômio Interpolador"
   ]
  },
  {
   "cell_type": "markdown",
   "metadata": {},
   "source": [
    "Tendo os pontos (x_0, f(x_0) ), (x_1, f(x_1) ), ... , (x_n, f(x_n) ) procuramos um polinômio onde:"
   ]
  },
  {
   "cell_type": "markdown",
   "metadata": {},
   "source": [
    "$Pn(x_i) = f(x_i)$"
   ]
  },
  {
   "cell_type": "markdown",
   "metadata": {},
   "source": [
    "$ i=0,1,...,n$"
   ]
  },
  {
   "cell_type": "markdown",
   "metadata": {},
   "source": [
    "Pela teoria da existência e unicidade, existe um único polinômio com essas características; acharemos ele com a fórmula de lagrange:"
   ]
  },
  {
   "cell_type": "markdown",
   "metadata": {},
   "source": [
    "$\\sum_{k=0}^{n} l_k(x)f(x_k)$"
   ]
  },
  {
   "cell_type": "markdown",
   "metadata": {},
   "source": [
    "$l_k(x)= \\frac{\\prod_{j=0,j\\neq k}^{n} (x-x_j)}{ \\prod_{j=0,j\\neq k}^{n} (x_k -x_j) }$"
   ]
  },
  {
   "cell_type": "code",
   "execution_count": 30,
   "metadata": {},
   "outputs": [],
   "source": [
    "import numpy as np \n",
    "import copy\n",
    "\n",
    "#multiplicatorio de (xi - xj)\n",
    "mult = lambda xi,Xj : np.prod([(xi - xj) for xj in Xj])\n",
    "    \n",
    "def lagrange(x,PXj,PYj):\n",
    "    \n",
    "    sumatory = 0\n",
    "    for k in range(len(PXj)):\n",
    "        Xj = PXj.copy()\n",
    "        Xj.pop(k)\n",
    "\n",
    "        lk =  mult(x,Xj)/mult(PXj[k],Xj)\n",
    "        \n",
    "        sumatory += lk*PYj[k]\n",
    "        \n",
    "        \n",
    "    \n",
    "    return(sumatory)"
   ]
  },
  {
   "cell_type": "code",
   "execution_count": 31,
   "metadata": {},
   "outputs": [
    {
     "data": {
      "text/plain": [
       "-0.6666666666666665"
      ]
     },
     "execution_count": 31,
     "metadata": {},
     "output_type": "execute_result"
    }
   ],
   "source": [
    "PXj = [-1,0,2]\n",
    "PYj = [4,1,-1]\n",
    "x = 1 \n",
    "lagrange(x,PXj,PYj)"
   ]
  },
  {
   "cell_type": "code",
   "execution_count": null,
   "metadata": {},
   "outputs": [],
   "source": []
  }
 ],
 "metadata": {
  "kernelspec": {
   "display_name": "Python 3",
   "language": "python",
   "name": "python3"
  },
  "language_info": {
   "codemirror_mode": {
    "name": "ipython",
    "version": 3
   },
   "file_extension": ".py",
   "mimetype": "text/x-python",
   "name": "python",
   "nbconvert_exporter": "python",
   "pygments_lexer": "ipython3",
   "version": "3.6.8"
  }
 },
 "nbformat": 4,
 "nbformat_minor": 2
}
