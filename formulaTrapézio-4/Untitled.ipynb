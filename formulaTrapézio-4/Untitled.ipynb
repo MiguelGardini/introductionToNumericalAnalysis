{
 "cells": [
  {
   "cell_type": "markdown",
   "metadata": {},
   "source": [
    "## Fórmula do trapézio"
   ]
  },
  {
   "cell_type": "markdown",
   "metadata": {},
   "source": [
    "###Alguem fassa a formula do trapézio"
   ]
  },
  {
   "cell_type": "markdown",
   "metadata": {},
   "source": [
    "### Erro fórmula de trapézio\n"
   ]
  },
  {
   "cell_type": "markdown",
   "metadata": {},
   "source": [
    "$|I(f) - I_T(f)| = |E_T(f)|$"
   ]
  },
  {
   "cell_type": "markdown",
   "metadata": {},
   "source": [
    "Pelo teorema do valor médio para integrais:"
   ]
  },
  {
   "cell_type": "markdown",
   "metadata": {},
   "source": [
    "$|E_T(f)| = |-h^3/12 f''(e) | = h^3/12 |f''(e)|$"
   ]
  },
  {
   "cell_type": "markdown",
   "metadata": {},
   "source": [
    "Achamos o maior valor possível com e entre a,b "
   ]
  },
  {
   "cell_type": "markdown",
   "metadata": {},
   "source": [
    "$|f''(e)|= \\max_{X \\in [a,b]}|f''(X)| $"
   ]
  },
  {
   "cell_type": "markdown",
   "metadata": {},
   "source": [
    " "
   ]
  },
  {
   "cell_type": "markdown",
   "metadata": {},
   "source": [
    " "
   ]
  },
  {
   "cell_type": "markdown",
   "metadata": {},
   "source": [
    "## Fórmula de simpson"
   ]
  },
  {
   "cell_type": "markdown",
   "metadata": {},
   "source": [
    "$\\int_a^b funcao(x)dx $~=$ I_q(funcao) = \\sum_{k=0}^{2} A_k funcao(X_k) $"
   ]
  },
  {
   "cell_type": "markdown",
   "metadata": {},
   "source": [
    "$A_0 = \\int_{x_1}^{x_2} l_0(x)dx = \\int_{x_1}^{x_2} \\frac{(X-X_1)(X-X2)}{(X_0-X_1)(X_0-X_2)} dx = h/3$\n"
   ]
  },
  {
   "cell_type": "markdown",
   "metadata": {},
   "source": [
    "$A_1=h* 4/3$"
   ]
  },
  {
   "cell_type": "markdown",
   "metadata": {},
   "source": [
    "$A_2=h/3$"
   ]
  },
  {
   "cell_type": "code",
   "execution_count": 3,
   "metadata": {},
   "outputs": [],
   "source": [
    "def simpson(a,b,funcao):\n",
    "    h = (b-a)/2\n",
    "    it0 = h/3 * funcao(a)\n",
    "    it1 = h*4/3 * funcao((b-a)/2)\n",
    "    it2 = h/3 * funcao(b)\n",
    "    \n",
    "    print(f'A0 * funcao(x0): {it0}')\n",
    "    print(f'A1 * funcao(x1): {it1}')\n",
    "    print(f'A2 * funcao(x2): {it2}')\n",
    "    return it0+it1+it2"
   ]
  },
  {
   "cell_type": "code",
   "execution_count": 4,
   "metadata": {},
   "outputs": [
    {
     "name": "stdout",
     "output_type": "stream",
     "text": [
      "A0 * funcao(x0): 0.0\n",
      "A1 * funcao(x1): 0.3196170257361353\n",
      "A2 * funcao(x2): 0.1402451641346494\n"
     ]
    },
    {
     "data": {
      "text/plain": [
       "0.45986218987078475"
      ]
     },
     "execution_count": 4,
     "metadata": {},
     "output_type": "execute_result"
    }
   ],
   "source": [
    "import math\n",
    "simpson(0,1,lambda x: math.sin(x))"
   ]
  },
  {
   "cell_type": "markdown",
   "metadata": {},
   "source": [
    "### Erro do método de simpson"
   ]
  },
  {
   "cell_type": "markdown",
   "metadata": {},
   "source": [
    "$|I(f) - I_s(f)| = |E_s(f)|$"
   ]
  },
  {
   "cell_type": "markdown",
   "metadata": {},
   "source": [
    "$E_s(f) = \\frac{-h^5}{q_0} f^{(4)}(e)$"
   ]
  },
  {
   "cell_type": "markdown",
   "metadata": {},
   "source": [
    "$|E_s(f)| =  \\frac{-h^5}{q_0} f^4(e) \\leqslant \\frac{-h^5}{q_0} \\max_{X \\in [a,b]}|f^{(4)}(X)| $"
   ]
  },
  {
   "cell_type": "markdown",
   "metadata": {},
   "source": [
    "## Fórmula de Quadratura composta"
   ]
  },
  {
   "cell_type": "markdown",
   "metadata": {},
   "source": [
    "Dividimos o intervalo [a,b] em N sub-intervalos [x_0,x_n]"
   ]
  },
  {
   "cell_type": "markdown",
   "metadata": {},
   "source": [
    "$\\int_a^b funcao(x)dx = $"
   ]
  },
  {
   "cell_type": "markdown",
   "metadata": {},
   "source": [
    "$\\int_{x_0}^{x_1} funcao(x)dx + \\int_{x_1}^{x_2} funcao(x)+...+\\int_{x_n-1}^{x_n} funcao(x)dxdx =$"
   ]
  },
  {
   "cell_type": "markdown",
   "metadata": {},
   "source": [
    "$\\sum_{j=1}^{n}\\int_{j-1}^{j} funcao(x)dx   $ ~="
   ]
  },
  {
   "cell_type": "markdown",
   "metadata": {},
   "source": [
    "$h/2[funcao(x_0)+funcao(x_n) + 2\\sum_{j=1}^{n-1} funcao(x_j)   ] = {I^n}_T(funcao)$"
   ]
  },
  {
   "cell_type": "code",
   "execution_count": 39,
   "metadata": {},
   "outputs": [],
   "source": [
    "import numpy\n",
    "#calcula aproximadamente a integral entre a e b de funcao\n",
    "#com n sub intervalos\n",
    "\n",
    "def formulaTrapezio(a,b,n,funcao):\n",
    "    \n",
    "    #achando pontos que começam e terminam as integrais\n",
    "    it = list(numpy.linspace(a,b,n+1))\n",
    "    print(it)\n",
    "    A = (b-a)/(2*n) # A = h/2\n",
    "    print(A)\n",
    "    \n",
    "    #somando os valores de funcao nos pontos de iteraçoes\n",
    "    fs = funcao(it[0]) + funcao(it[-1])\n",
    "    it.pop(0)\n",
    "    it.pop(-1)\n",
    "    fs += sum(2*funcao(i) for i in it)\n",
    "    \n",
    "    print('valor de h/2:')\n",
    "    print(A)\n",
    "    print('soma das integrais :')\n",
    "    print(fs)\n",
    "    \n",
    "    return A*fs"
   ]
  },
  {
   "cell_type": "code",
   "execution_count": 40,
   "metadata": {},
   "outputs": [
    {
     "name": "stdout",
     "output_type": "stream",
     "text": [
      "[0.0, 0.5, 1.0]\n",
      "0.25\n",
      "valor de h/2:\n",
      "0.25\n",
      "soma das integrais :\n",
      "1.8003220620163025\n"
     ]
    },
    {
     "data": {
      "text/plain": [
       "0.45008051550407563"
      ]
     },
     "execution_count": 40,
     "metadata": {},
     "output_type": "execute_result"
    }
   ],
   "source": [
    "funcao = lambda x: math.sin(x)\n",
    "formulaTrapezio(0,1,2,funcao)\n"
   ]
  },
  {
   "cell_type": "markdown",
   "metadata": {},
   "source": [
    "### Erro fórmula de quadratura composta"
   ]
  },
  {
   "cell_type": "markdown",
   "metadata": {},
   "source": [
    "$ {E^n}_T(funcao) = (-h)^3/12 \\sum_{j=1}^{n}funcao''(e_j)$"
   ]
  },
  {
   "cell_type": "markdown",
   "metadata": {},
   "source": [
    "${E^n}_T(funcao) = -Nh^3/12funcao''(e)$"
   ]
  },
  {
   "cell_type": "markdown",
   "metadata": {},
   "source": [
    "$|{E^n}_T(funcao)| = Nh^3/12 \\max_{X \\in [a,b]}|funcao''(X)|$"
   ]
  },
  {
   "cell_type": "code",
   "execution_count": null,
   "metadata": {},
   "outputs": [],
   "source": []
  }
 ],
 "metadata": {
  "kernelspec": {
   "display_name": "Python 3",
   "language": "python",
   "name": "python3"
  },
  "language_info": {
   "codemirror_mode": {
    "name": "ipython",
    "version": 3
   },
   "file_extension": ".py",
   "mimetype": "text/x-python",
   "name": "python",
   "nbconvert_exporter": "python",
   "pygments_lexer": "ipython3",
   "version": "3.6.8"
  }
 },
 "nbformat": 4,
 "nbformat_minor": 2
}
