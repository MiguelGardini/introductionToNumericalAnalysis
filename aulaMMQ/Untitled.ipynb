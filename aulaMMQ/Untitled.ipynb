{
 "cells": [
  {
   "cell_type": "markdown",
   "metadata": {},
   "source": [
    "### Método dos mínimos Quadrados (MMQ)"
   ]
  },
  {
   "cell_type": "markdown",
   "metadata": {},
   "source": [
    "#### Caso Discreto:"
   ]
  },
  {
   "cell_type": "markdown",
   "metadata": {},
   "source": [
    "Dados os pontos $(X_0 , F(X_0)), ... , (X_n , F(X_n))$  para  $X_0,X_1,...X_n$ procuramos uma função que aproxima F(X), chamamos tal de G(X)"
   ]
  },
  {
   "cell_type": "markdown",
   "metadata": {},
   "source": [
    "$ G(X) = A_0g_0(X) + A_1g_1(X) + ... + A_ng_n(X)$"
   ]
  },
  {
   "cell_type": "markdown",
   "metadata": {},
   "source": [
    "$g_m(X)$ são funções previamente escolhidas"
   ]
  },
  {
   "cell_type": "markdown",
   "metadata": {},
   "source": [
    "$A_m$ são parâmetros a serem escolhidos procurando achar o mínimo do erro para todos os pontos co conhecidos"
   ]
  },
  {
   "cell_type": "markdown",
   "metadata": {},
   "source": [
    "erro = Q(x) = $\\sum_{i=0}^{n} |F(X_i) - G(X_i)|$"
   ]
  },
  {
   "cell_type": "markdown",
   "metadata": {},
   "source": [
    "Para facilitar o calculo trocamos a fórmula de erro por:"
   ]
  },
  {
   "cell_type": "markdown",
   "metadata": {},
   "source": [
    "Q(x) = $\\sum_{i=0}^{n} (F(X_i) - G(X_i))^2$"
   ]
  },
  {
   "cell_type": "markdown",
   "metadata": {},
   "source": [
    "(o mínimo continua o mesmo)"
   ]
  },
  {
   "cell_type": "markdown",
   "metadata": {},
   "source": [
    "(caso queiram uma explicação matematiques, utilize o caderno do giovanni)"
   ]
  },
  {
   "cell_type": "markdown",
   "metadata": {},
   "source": [
    "#### Observe:"
   ]
  },
  {
   "cell_type": "markdown",
   "metadata": {},
   "source": [
    "G(X) apresenta (n+1) incognitas:"
   ]
  },
  {
   "cell_type": "markdown",
   "metadata": {},
   "source": [
    "Q(x) = $\\sum_{i=0}^{n} (F(X_i) -  A_0g_0(X_i))^2$"
   ]
  },
  {
   "cell_type": "markdown",
   "metadata": {},
   "source": [
    "para n=0 ,há única incognita, o $A_0$.\n"
   ]
  },
  {
   "cell_type": "markdown",
   "metadata": {},
   "source": [
    "Q(x)= $\\sum_{i=0}^{n} (F(X) -  A_0g_0(X_i) - A_1g_1(X_i))^2$"
   ]
  },
  {
   "cell_type": "markdown",
   "metadata": {},
   "source": [
    "para n=1 , há as incognitas $A_0$ e $A_1$."
   ]
  },
  {
   "cell_type": "markdown",
   "metadata": {},
   "source": [
    "#### Oberse2:"
   ]
  },
  {
   "cell_type": "markdown",
   "metadata": {},
   "source": [
    "O Q(x) é um polinômio de grau 2"
   ]
  },
  {
   "cell_type": "markdown",
   "metadata": {},
   "source": [
    " Q(x) tem o formato de uma parábola com formato de U"
   ]
  },
  {
   "cell_type": "markdown",
   "metadata": {},
   "source": [
    " apresenta um mínimo"
   ]
  },
  {
   "cell_type": "markdown",
   "metadata": {},
   "source": [
    " $Q(x) \\geq 0$"
   ]
  },
  {
   "cell_type": "markdown",
   "metadata": {},
   "source": [
    "#### Achando mínimo"
   ]
  },
  {
   "cell_type": "markdown",
   "metadata": {},
   "source": [
    "Para tal procuramos de mínimo, ou seja o gradiente é zero:"
   ]
  },
  {
   "cell_type": "markdown",
   "metadata": {},
   "source": [
    "$\\nabla(Q) = [\\frac{\\partial Q}{\\partial A_0} , \\frac{\\partial Q}{\\partial A_1} , ... \\frac{\\partial Q}{\\partial A_n}] = [0,0,...,0]$ "
   ]
  },
  {
   "cell_type": "markdown",
   "metadata": {},
   "source": [
    "Para cada j=0,1,...,n:"
   ]
  },
  {
   "cell_type": "markdown",
   "metadata": {},
   "source": [
    "$\\frac{\\partial }{\\partial A_j}( \\sum_{i=0}^{n} [F(X_i)  - G(X_i)]^2 = 0$"
   ]
  },
  {
   "cell_type": "markdown",
   "metadata": {},
   "source": [
    "$ \\sum_{i=0}^{n} \\frac{\\partial }{\\partial A_j} [F(X_i)  - G(X_i)]^2 = 0$"
   ]
  },
  {
   "cell_type": "markdown",
   "metadata": {},
   "source": [
    "$ \\sum_{i=0}^{n} 2[F(X_i)  - G(X_i)](-g_j(X_i)) = 0$"
   ]
  },
  {
   "cell_type": "markdown",
   "metadata": {},
   "source": [
    "$ \\sum_{i=0}^{n} [-F(X_i)g_j(X_i)  + G(X_i)g_j(X_i)] = 0$"
   ]
  },
  {
   "cell_type": "markdown",
   "metadata": {},
   "source": [
    "$ \\sum_{i=0}^{n} [\\lbrace(A_0g_0(X_i) + A_1g_1(X_i) + ... + A_ng_n(X_i)\\rbrace g_j(X_i) ] = \\sum_{i=0}^{n}F(X_i)g_j(X_i) $"
   ]
  },
  {
   "cell_type": "markdown",
   "metadata": {},
   "source": [
    "$ A_0\\sum_{i=0}^{n} [g_0(X_i)g_j(X_i)] + A_1\\sum_{i=0}^{n} [g_1(X_i)g_j(X_i)] + ... + A_n\\sum_{i=0}^{n} [g_n(X_i)g_j(X_i)]= \\sum_{i=0}^{n}F(X_i)g_j(X_i) $"
   ]
  },
  {
   "cell_type": "code",
   "execution_count": null,
   "metadata": {},
   "outputs": [],
   "source": []
  }
 ],
 "metadata": {
  "kernelspec": {
   "display_name": "Python 3",
   "language": "python",
   "name": "python3"
  },
  "language_info": {
   "codemirror_mode": {
    "name": "ipython",
    "version": 3
   },
   "file_extension": ".py",
   "mimetype": "text/x-python",
   "name": "python",
   "nbconvert_exporter": "python",
   "pygments_lexer": "ipython3",
   "version": "3.6.8"
  }
 },
 "nbformat": 4,
 "nbformat_minor": 2
}
