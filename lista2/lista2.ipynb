{
 "cells": [
  {
   "cell_type": "markdown",
   "metadata": {},
   "source": [
    "# Normas de vetores e matrizes"
   ]
  },
  {
   "cell_type": "markdown",
   "metadata": {},
   "source": [
    "Existem 3 tipos de normas: Norma euclidiana ($||X||_E$), Norma infinita ($||X||_\\infty$) e Norma \"um\" ($||X||_1$)"
   ]
  },
  {
   "cell_type": "markdown",
   "metadata": {},
   "source": [
    "### Norma Euclidiana ($||X||_E$)"
   ]
  },
  {
   "cell_type": "markdown",
   "metadata": {},
   "source": [
    "É a norma mais comum de todas, que já estamos acostumados a fazer. Em um vetor, você soma os quadrados de todos os membros e tira a raiz quadrada do resultado, isto é:\n",
    "\n",
    "$||X||_{E} = \\sqrt{\\sum_{i=1}^{n} X_i ^ 2}$\n",
    "\n",
    "Sendo $n$ o tamanho do vetor.\n",
    "\n",
    "obs: ele só passou a versão para vetores dessa norma"
   ]
  },
  {
   "cell_type": "code",
   "execution_count": 1,
   "metadata": {},
   "outputs": [
    {
     "data": {
      "text/plain": [
       "1.7320508075688772"
      ]
     },
     "execution_count": 1,
     "metadata": {},
     "output_type": "execute_result"
    }
   ],
   "source": [
    "import numpy as np\n",
    "\n",
    "np.linalg.norm([1,1,1])"
   ]
  },
  {
   "cell_type": "markdown",
   "metadata": {},
   "source": [
    "### Norma infinita (ou norma do máximo) ($||X||_\\infty$)"
   ]
  },
  {
   "cell_type": "markdown",
   "metadata": {},
   "source": [
    "Em um vetor, essa norma é simplesmente o maior membro do vetor em módulo:\n",
    "\n",
    "$||A||_\\infty = max_{(1 \\leq i \\leq n)}(|X_i|)$\n",
    "\n",
    "\n",
    "\n",
    "Já, no caso de uma matriz $A$, a norma é o somatório da linha de maior somatório (somando os números em módulo), isto é:\n",
    "\n",
    "$||A||_\\infty = max_{(1 \\leq i \\leq n)}(\\sum_{j=1}^{n} |X_{ij}|) = max(\\sum_{j=1}^{n} |X_{1j}| , \\sum_{j=1}^{n} |X_{2j}| , ... , \\sum_{j=1}^{n} |X_{nj}|) $"
   ]
  },
  {
   "cell_type": "code",
   "execution_count": null,
   "metadata": {},
   "outputs": [],
   "source": [
    "import numpy as np\n",
    "\n",
    "def infiniteNorm(a):\n",
    "    try:\n",
    "        # Retornamos o maximo das somas das colunas.\n",
    "        return np.max([np.sum(a[i, :]) for i in range(a.shape[1])])\n",
    "    except(IndexError):\n",
    "        return np.max(a)"
   ]
  },
  {
   "cell_type": "markdown",
   "metadata": {},
   "source": [
    "### Norma \"um\" ($||X||_1$)"
   ]
  },
  {
   "cell_type": "markdown",
   "metadata": {},
   "source": [
    "Em um vetor, essa norma é simplesmente a soma de todos os elementos (em módulo):\n",
    "\n",
    "$||A||_1 = \\sum_{i=1}^{n} |X_i| $\n",
    "\n",
    "Já, no caso de uma matriz $A$, a norma é equivalente à norma infinita, porém, ao invés de ser a soma das linhas, é a soma das colunas, ou seja:\n",
    "\n",
    "$||A||_1 = max_{(1 \\leq j \\leq n)}(\\sum_{i=1}^{n} |X_{ij}|) = max(\\sum_{i=1}^{n} |X_{i1}| , \\sum_{i=1}^{n} |X_{i2}| , ... , \\sum_{i=1}^{n} |X_{in}|) $"
   ]
  },
  {
   "cell_type": "code",
   "execution_count": 36,
   "metadata": {},
   "outputs": [],
   "source": [
    "import numpy as np\n",
    "\n",
    "def manhattan(a):\n",
    "    try:\n",
    "        # Retornamos o maximo das somas das colunas.\n",
    "        return np.max([np.sum(a[: , i]) for i in range(a.shape[1])])\n",
    "    except(IndexError):\n",
    "        return np.sum(a)"
   ]
  },
  {
   "cell_type": "code",
   "execution_count": 37,
   "metadata": {},
   "outputs": [
    {
     "data": {
      "text/plain": [
       "18"
      ]
     },
     "execution_count": 37,
     "metadata": {},
     "output_type": "execute_result"
    }
   ],
   "source": [
    "manhattan(np.array([[1, 2, 3],\n",
    "                    [4, 5, 6],\n",
    "                    [7, 8, 9]]))"
   ]
  },
  {
   "cell_type": "markdown",
   "metadata": {},
   "source": [
    "# Resolução de sistemas lineares"
   ]
  },
  {
   "cell_type": "markdown",
   "metadata": {},
   "source": [
    "## Método de eliminação de Gauss"
   ]
  },
  {
   "cell_type": "markdown",
   "metadata": {},
   "source": [
    "O método de elmininação de Gauss consiste na transformação de um sistema linear de forma $Ax=b$ em um sistema equivalente $A^{n}x=b^{n}$ por meio da realização de operações elementares nas linhas da matriz aumentada $[A|b]$"
   ]
  },
  {
   "cell_type": "markdown",
   "metadata": {},
   "source": [
    "A resolução completa de um sistema $NxN$ é realizada em $N-1$ passos."
   ]
  },
  {
   "cell_type": "markdown",
   "metadata": {},
   "source": [
    "### Algoritmo completo"
   ]
  },
  {
   "cell_type": "markdown",
   "metadata": {},
   "source": [
    "1. Montar a matriz aumentada $[A|b]$\n",
    "2. Determinação do pivô: $a_{kk}$\n",
    "3. Definir os multiplicadores de linha: $m_{ik} = \\frac{a_{ik}}{a_{kk}}$\n",
    "4. Atualização das linhas: $L_i \\leftarrow L_i - m_{ik} \\times L_{pivo}$"
   ]
  },
  {
   "cell_type": "markdown",
   "metadata": {},
   "source": [
    "<span style=\"color:red\">Importante: devido ao Python, o código abaixo pode produzir sistemas lineares resolvidos com erros na base de 10^{-10}, o que deve ser considerado durante a análise da resposta obtida. Além disso, o código deve receber como _input_ uma matriz pivôs nulos.</span>"
   ]
  },
  {
   "cell_type": "code",
   "execution_count": null,
   "metadata": {},
   "outputs": [],
   "source": [
    "import numpy as np\n",
    "\n",
    "\n",
    "\"\"\"\n",
    "    Codigo que resolve sistemas lineares. Por uma questao \n",
    "    de simplificacao de implementacao, nao serao tratados\n",
    "    os casos em que os pivos sao 0s, logo cabe ao usuario \n",
    "    realizar um tratamento da entrada.\n",
    "\"\"\"\n",
    "def metodoGauss(A, b):\n",
    "    \n",
    "    # A partir da concatenacao das matrizes, montamos a [A|b]\n",
    "    matrix = np.concatenate((A, b), axis=1)\n",
    "    matrix.astype(\"float64\")\n",
    "    for i in range(matrix.shape[0] - 1):\n",
    "         \n",
    "        # Calculo dos multiplicadores    \n",
    "        print(\">>>Matrix:\")\n",
    "        print(matrix)\n",
    "        \n",
    "        multiplicadores = matrix[:, i]/matrix[i][i]\n",
    "        print(\">>>Multiplicadores: \")\n",
    "        print(multiplicadores)\n",
    "        # Atualizamos as linhas abaixo da linha atual...         \n",
    "        for j in range(i + 1, matrix.shape[0]):\n",
    "            print(\"Produto atual: \", matrix[j], multiplicadores[j],matrix[i] )\n",
    "            matrix[j] = matrix[j] - multiplicadores[j] * matrix[i]\n",
    "        \n",
    "    return matrix"
   ]
  },
  {
   "cell_type": "code",
   "execution_count": null,
   "metadata": {},
   "outputs": [],
   "source": [
    "metodoGauss(np.array([[3.0, 2., 4.],\n",
    "                      [1.0, 1., 2.],\n",
    "                      [4.0, 3., -2.]]),\n",
    "            np.array([[1.], \n",
    "                      [2.],\n",
    "                      [3.]]))"
   ]
  },
  {
   "cell_type": "markdown",
   "metadata": {},
   "source": [
    "## Métodos de fatoração LU"
   ]
  },
  {
   "cell_type": "markdown",
   "metadata": {},
   "source": [
    "Os métodos de fatoração LU consistem na ideia de que existe uma matriz $L$ triangular inferior e uma matriz $U$ triangular superior, tais que:\n",
    "\n",
    "$LU = A$"
   ]
  },
  {
   "cell_type": "markdown",
   "metadata": {},
   "source": [
    "Assim, dado o sistema linear $AX = b$, temos:\n",
    "\n",
    "$LU = A \\implies (LU)X=b \\implies L(UX) = b$"
   ]
  },
  {
   "cell_type": "markdown",
   "metadata": {},
   "source": [
    "Fazendo $UX = Y$, obtemos o sistema linear triangular $LY = b$."
   ]
  },
  {
   "cell_type": "markdown",
   "metadata": {},
   "source": [
    "A ideia é, basicamente, resolver o sistema:\n",
    "\n",
    "$\\begin{cases} LY = b \\\\ UX = Y \\end{cases}$"
   ]
  },
  {
   "cell_type": "markdown",
   "metadata": {},
   "source": [
    "## Método de DooLittle (LU)"
   ]
  },
  {
   "cell_type": "markdown",
   "metadata": {},
   "source": [
    "#### 1º passo: calcular $L$ e $U$:"
   ]
  },
  {
   "cell_type": "markdown",
   "metadata": {},
   "source": [
    "Atribuindo $1$ para todos os valores da diagonal da matriz $L$, possuímos um sistema de $n^2$ equações e $n^2$ incógnitas."
   ]
  },
  {
   "cell_type": "markdown",
   "metadata": {},
   "source": [
    "Em seguida, efetuamos o produto $LU$ e igualamos à matriz $A$. Assim, temos que a primeira linha de $U$ é idêntica à primeira linha de $A$, enquanto a primeira coluna de $L$ é dada por:\n",
    "\n",
    "$l_{k1}u_{11} = a_{k1} \\implies l_{k1} = \\frac{a_{k1}}{a_{11}}$, <br><br> com $k$ variando de $2$ a $n$\n",
    "(lembrando que $u_{11} = a_{11}$)"
   ]
  },
  {
   "cell_type": "markdown",
   "metadata": {},
   "source": [
    "Agora que temos a primeira linha de $U$ e a primeira coluna de $L$, podemos seguir com as equações:\n",
    "\n",
    "##### Linha $k$ de $U$:\n",
    "$u_{kj} = a_{kj} - \\sum_{m=1}^{k-1} l_{km}u_{mj}$, $j$ variando de $k$ a $n$.\n",
    "\n",
    "##### Coluna $k$ de $L$: \n",
    "$l_{ik} = a_{ik} - \\frac{\\sum_{m=1}^{k-1} l_{im}u_{mk}}{u_{kk}} $,  $i$ variando de $k+1$ a $n$.\n",
    "\n",
    "Obs: Calculamos primeiro a linha $k$ de $U$, depois a coluna $k$ de $L$, incrementamos $k$, e repetimos o algoritmo até que $k = n$"
   ]
  },
  {
   "cell_type": "markdown",
   "metadata": {},
   "source": [
    "#### 2º passo: resolver o sistema acima"
   ]
  },
  {
   "cell_type": "markdown",
   "metadata": {},
   "source": [
    "Resolve-se primeiro $LY = b$, obtendo-se $Y$ <br>\n",
    "Resolve-se depois $UX = Y$, obtendo-se $X$"
   ]
  },
  {
   "cell_type": "markdown",
   "metadata": {},
   "source": [
    "Como as matrizes são triangulares, é bem fácil de resolver o sistema, pois $y_1 = \\frac{b_1}{l_{11}}$ e $x_n = \\frac{y_n}{u_{nn}}$"
   ]
  },
  {
   "cell_type": "markdown",
   "metadata": {},
   "source": [
    "## Método de Cholesky"
   ]
  },
  {
   "cell_type": "markdown",
   "metadata": {},
   "source": [
    "Caso especial em que $A$ é uma matriz simétrica. Temos que $U = L^t$"
   ]
  }
 ],
 "metadata": {
  "kernelspec": {
   "display_name": "Python 3",
   "language": "python",
   "name": "python3"
  },
  "language_info": {
   "codemirror_mode": {
    "name": "ipython",
    "version": 3
   },
   "file_extension": ".py",
   "mimetype": "text/x-python",
   "name": "python",
   "nbconvert_exporter": "python",
   "pygments_lexer": "ipython3",
   "version": "3.7.4"
  }
 },
 "nbformat": 4,
 "nbformat_minor": 2
}
