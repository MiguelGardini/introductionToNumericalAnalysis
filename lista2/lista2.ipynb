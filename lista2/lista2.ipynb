{
 "cells": [
  {
   "cell_type": "markdown",
   "metadata": {},
   "source": [
    "# Normas de vetores e matrizes"
   ]
  },
  {
   "cell_type": "markdown",
   "metadata": {},
   "source": [
    "Existem 3 tipos de normas: Norma euclidiana ($||X||_E$), Norma infinita ($||X||_\\infty$) e Norma \"um\" ($||X||_1$)"
   ]
  },
  {
   "cell_type": "markdown",
   "metadata": {},
   "source": [
    "### Norma Euclidiana ($||X||_E$)"
   ]
  },
  {
   "cell_type": "markdown",
   "metadata": {},
   "source": [
    "É a norma mais comum de todas, que já estamos acostumados a fazer. Em um vetor, você soma todos os membros e tira a raiz quadrada do resultado, isto é:\n",
    "\n",
    "$||X||_{E} = \\sqrt{\\sum_{i=1}^{n} X_i ^ 2}$\n",
    "\n",
    "Sendo $n$ o tamanho do vetor.\n",
    "\n",
    "obs: ele só passou a versão para vetores dessa Norma"
   ]
  },
  {
   "cell_type": "markdown",
   "metadata": {},
   "source": [
    "### Norma infinita (ou norma do máximo) ($||X||_\\infty$)"
   ]
  },
  {
   "cell_type": "markdown",
   "metadata": {},
   "source": [
    "Em um vetor, essa norma é simplesmente o maior membro do vetor em módulo. Literalmente.\n",
    "\n",
    "$||A||_\\infty = max_{(1 \\leq i \\leq n)}(|X_i|)$\n",
    "\n",
    "\n",
    "\n",
    "Já, no caso de uma matriz $A$, a norma é o somatório da linha de maior somatório (somando os números em módulo, isto é:\n",
    "\n",
    "$||A||_\\infty = max_{(1 \\leq i \\leq n)}(\\sum_{j=1}^{n} |X_{ij}|) = max(\\sum_{j=1}^{n} |X_{1j}| , \\sum_{j=1}^{n} |X_{2j}| , ... , \\sum_{j=1}^{n} |X_{nj}|) $"
   ]
  },
  {
   "cell_type": "markdown",
   "metadata": {},
   "source": [
    "### Norma \"um\" ($||X||_1$)"
   ]
  },
  {
   "cell_type": "markdown",
   "metadata": {},
   "source": [
    "Em um vetor, essa norma é simplesmente a soma de todos os elementos (em módulo).\n",
    "\n",
    "$||A||_1 = \\sum_{i=1}^{n} |X_i|) $\n",
    "\n",
    "Já, no caso de uma matriz $A$, a norma é equivalente à norma infinita, porém, ao inves de ser a soma das linhas, é a soma das colunas, ou seja:\n",
    "\n",
    "$||A||_1 = max_{(1 \\leq j \\leq n)}(\\sum_{i=1}^{n} |X_{ij}|) = max(\\sum_{i=1}^{n} |X_{i1}| , \\sum_{i=1}^{n} |X_{i2}| , ... , \\sum_{i=1}^{n} |X_{in}|) $"
   ]
  }
 ],
 "metadata": {
  "kernelspec": {
   "display_name": "Python 3",
   "language": "python",
   "name": "python3"
  },
  "language_info": {
   "codemirror_mode": {
    "name": "ipython",
    "version": 3
   },
   "file_extension": ".py",
   "mimetype": "text/x-python",
   "name": "python",
   "nbconvert_exporter": "python",
   "pygments_lexer": "ipython3",
   "version": "3.7.4"
  }
 },
 "nbformat": 4,
 "nbformat_minor": 2
}
