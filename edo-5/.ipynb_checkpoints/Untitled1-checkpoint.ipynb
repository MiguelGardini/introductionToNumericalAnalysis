{
 "cells": [
  {
   "cell_type": "markdown",
   "metadata": {},
   "source": [
    "Considere uma função de duas variáveis, ela é uma edo de primeira ordem caso:"
   ]
  },
  {
   "cell_type": "markdown",
   "metadata": {},
   "source": [
    "$f(x,y)=Y'$"
   ]
  },
  {
   "cell_type": "markdown",
   "metadata": {},
   "source": [
    "como por exemplo:"
   ]
  },
  {
   "cell_type": "markdown",
   "metadata": {},
   "source": [
    "$Y'=Y$"
   ]
  },
  {
   "cell_type": "markdown",
   "metadata": {},
   "source": [
    "$Y'=-Y$"
   ]
  },
  {
   "cell_type": "markdown",
   "metadata": {},
   "source": [
    "A condição inicial eh um ponto, $[X_0 , Y(X_0)]$"
   ]
  },
  {
   "cell_type": "markdown",
   "metadata": {},
   "source": [
    "Junto com a fórmula, achamos o PVI:"
   ]
  },
  {
   "cell_type": "markdown",
   "metadata": {},
   "source": [
    "$Y' = f(x,y)$"
   ]
  },
  {
   "cell_type": "markdown",
   "metadata": {},
   "source": [
    "$Y( X_0)= Y_0 $"
   ]
  },
  {
   "cell_type": "markdown",
   "metadata": {},
   "source": [
    "Expandiremos Y por uma série de taylor em torno de $X_0$"
   ]
  },
  {
   "cell_type": "markdown",
   "metadata": {},
   "source": [
    "$Y(X) = Y_0 + (X-X_0) Y^{'}(X_0) + \\frac{(X-X_0)^{2}}{2!} Y^{''}(X_0) + ... + \\frac{(X-X_0)^{n}}{n!} Y^{n}(X_0)$"
   ]
  },
  {
   "cell_type": "markdown",
   "metadata": {},
   "source": [
    "## Solução de PVI por série de Taylor"
   ]
  },
  {
   "cell_type": "markdown",
   "metadata": {},
   "source": [
    "$Y(x) = Y(x_0) + Y'(x_0)(x-x_0) + Y''(x_0)\\frac{(x-x_0)^2}{2!} +... + Y^n(x_0)\\frac{(x-x_0)^n}{n!}  + Y^{n+1}(x_0)\\frac{(x-x_0)^{n+1}}{(n+1)!}$"
   ]
  },
  {
   "cell_type": "markdown",
   "metadata": {},
   "source": [
    "Desprezamos o $Y^{n+1}(x_0)\\frac{(x-x_0)^{n+1}}{(n+1)!}$"
   ]
  },
  {
   "cell_type": "markdown",
   "metadata": {},
   "source": [
    "$Y(x) $ ~= $ Y(x_0) + Y'(x_0)(x-x_0) + Y''(x_0)\\frac{(x-x_0)^2}{2!} +... + Y^n(x_0)\\frac{(x-x_0)^n}{n!}$"
   ]
  },
  {
   "cell_type": "markdown",
   "metadata": {},
   "source": [
    "Para calcular $Y_{k}$ , $k>0$ utilizaremos o $Y' = f(x,y)$ "
   ]
  },
  {
   "cell_type": "markdown",
   "metadata": {},
   "source": [
    "$Y'' = f(x,y)' = \\frac{\\partial f}{\\partial x} + \\frac{\\partial f}{\\partial y}\\frac{\\partial Y}{\\partial x}$ "
   ]
  },
  {
   "cell_type": "markdown",
   "metadata": {},
   "source": [
    "$Y'' = \\frac{\\partial f}{\\partial x} + \\frac{\\partial f}{\\partial y}f$ "
   ]
  },
  {
   "cell_type": "markdown",
   "metadata": {},
   "source": [
    "### Algoritmo de Taylor de ordem K"
   ]
  },
  {
   "cell_type": "markdown",
   "metadata": {},
   "source": [
    "Utiliza como base o PVI:"
   ]
  },
  {
   "cell_type": "markdown",
   "metadata": {},
   "source": [
    "$Y' = f(x,y)$ ,  a<=x<=b"
   ]
  },
  {
   "cell_type": "markdown",
   "metadata": {},
   "source": [
    "$Y( X_0)= Y_0 $"
   ]
  },
  {
   "cell_type": "markdown",
   "metadata": {},
   "source": [
    "1- Definimos os pontos X_i , sendo 0 < i < n+1"
   ]
  },
  {
   "cell_type": "markdown",
   "metadata": {},
   "source": [
    "$X_i = X_0 + ih$"
   ]
  },
  {
   "cell_type": "markdown",
   "metadata": {},
   "source": [
    "$h = \\frac{(b-a)}{n}$"
   ]
  },
  {
   "cell_type": "markdown",
   "metadata": {},
   "source": [
    "2- calculamos os Y_i , sendo 0 < i < n+1 utilizando a série de Taylor"
   ]
  },
  {
   "cell_type": "markdown",
   "metadata": {},
   "source": [
    "### Erro da solução aproximada"
   ]
  },
  {
   "cell_type": "markdown",
   "metadata": {},
   "source": [
    "$E_{k+1}= f(e(X_j),Y(e))^{k}\\frac{(x_j-x_0)^{k+1}}{(k+1)!}$"
   ]
  },
  {
   "cell_type": "markdown",
   "metadata": {},
   "source": [
    "Utilizando k=1 no algoritmo de Taylor, resulta no método de Euler"
   ]
  },
  {
   "cell_type": "markdown",
   "metadata": {},
   "source": [
    "### Exemplo"
   ]
  },
  {
   "cell_type": "markdown",
   "metadata": {},
   "source": [
    "Enunciado: $Y'=xy^{1/2}=f(x,y)$  ,  1<=x<=1.2 , Y(1) = 1 , "
   ]
  },
  {
   "cell_type": "markdown",
   "metadata": {},
   "source": [
    "Utilize h=0.1, calcule Y(1.2) pelo método de Taylor com k=2"
   ]
  },
  {
   "cell_type": "markdown",
   "metadata": {},
   "source": [
    "$h = \\frac{(1.2-1)]{2} = 0.1$"
   ]
  },
  {
   "cell_type": "markdown",
   "metadata": {},
   "source": [
    "Utilizaremos Taylor com k=2"
   ]
  },
  {
   "cell_type": "markdown",
   "metadata": {},
   "source": [
    "$Y_{j+1} = Y_j + hf(X_j,Y_j) + \\frac{h^2}{2} [\\frac{\\partial f}{\\partial x} + \\frac{\\partial f}{\\partial y}f]$"
   ]
  },
  {
   "cell_type": "markdown",
   "metadata": {},
   "source": [
    "Para j=0"
   ]
  },
  {
   "cell_type": "markdown",
   "metadata": {},
   "source": [
    "$Y_1 = Y_0 + hf(X_0,Y_0) + \\frac{h^2}{2} [\\frac{\\partial f}{\\partial x} + \\frac{\\partial f}{\\partial y}f] $"
   ]
  },
  {
   "cell_type": "markdown",
   "metadata": {},
   "source": [
    "$Y_1 = 1 + 0.1[X_0{Y_0}^{1/2}] + \\frac{0.1^2}{2} [{Y_0}^{1/2} + \\frac{X_0 - {Y_0}^{-1/2}}{2}X_0{Y_0}^{1/2}] $"
   ]
  },
  {
   "cell_type": "markdown",
   "metadata": {},
   "source": [
    "$Y_1 = 1.1075$"
   ]
  },
  {
   "cell_type": "markdown",
   "metadata": {},
   "source": [
    "$Y_2 = Y_1 + hf(X_1,Y_1) + \\frac{h^2}{2} [{Y_1}^{1/2} + {X_1}^2] $"
   ]
  },
  {
   "cell_type": "markdown",
   "metadata": {},
   "source": [
    "$Y_2 = 1.2315$"
   ]
  },
  {
   "cell_type": "markdown",
   "metadata": {},
   "source": [
    "## Métodos Runge-Kutta"
   ]
  },
  {
   "cell_type": "markdown",
   "metadata": {},
   "source": [
    "Métodos paralelos ao anterior, servindo para resolver o PVI.Apresenta um erro de truncamento de ordem k, sem a necessidade de calcular as derivadas parcias de $f(x,y)$"
   ]
  },
  {
   "cell_type": "markdown",
   "metadata": {},
   "source": [
    "Eles apresentam essas 3 prorpiedades:"
   ]
  },
  {
   "cell_type": "markdown",
   "metadata": {},
   "source": [
    "1- Utilizam a solução do passo anterior para calcular o atual"
   ]
  },
  {
   "cell_type": "markdown",
   "metadata": {},
   "source": [
    "2- Não envolvem derivadas parciais de f(x,y)"
   ]
  },
  {
   "cell_type": "markdown",
   "metadata": {},
   "source": [
    "3- Concordam com o série de taylor de ordem k"
   ]
  },
  {
   "cell_type": "markdown",
   "metadata": {},
   "source": [
    "Y_{j+1} = Y_j + h \\sum_{j}^{T} A_jk_j$"
   ]
  },
  {
   "cell_type": "markdown",
   "metadata": {},
   "source": [
    "### Ex: método de euler"
   ]
  },
  {
   "cell_type": "markdown",
   "metadata": {},
   "source": [
    "é dado por : $Y_{j+1} = Y_j + f(X_j,Y_j)$"
   ]
  },
  {
   "cell_type": "markdown",
   "metadata": {},
   "source": [
    "segue as 3 caracteristicas"
   ]
  }
 ],
 "metadata": {
  "kernelspec": {
   "display_name": "Python 3",
   "language": "python",
   "name": "python3"
  },
  "language_info": {
   "codemirror_mode": {
    "name": "ipython",
    "version": 3
   },
   "file_extension": ".py",
   "mimetype": "text/x-python",
   "name": "python",
   "nbconvert_exporter": "python",
   "pygments_lexer": "ipython3",
   "version": "3.6.9"
  }
 },
 "nbformat": 4,
 "nbformat_minor": 2
}
