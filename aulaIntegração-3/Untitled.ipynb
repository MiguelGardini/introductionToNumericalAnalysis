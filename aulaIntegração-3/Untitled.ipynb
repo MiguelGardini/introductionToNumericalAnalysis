{
 "cells": [
  {
   "cell_type": "markdown",
   "metadata": {},
   "source": [
    "Procuramos integrar f(x) em [a,b]"
   ]
  },
  {
   "cell_type": "markdown",
   "metadata": {},
   "source": [
    "$I(x) = \\int_a^b f(x)dx$ $"
   ]
  },
  {
   "cell_type": "markdown",
   "metadata": {},
   "source": [
    "Mas f(x) é muito complicada sua integração, tentamos achar um polinômio interpolador (P(x)), o qual se aproxima de f(x)."
   ]
  },
  {
   "cell_type": "markdown",
   "metadata": {},
   "source": [
    "Para tal temos n pontos dentro de [a,b]"
   ]
  },
  {
   "cell_type": "markdown",
   "metadata": {},
   "source": [
    "$f(x) - P(x) = (x-x_0)(x-x_1)...(x-x_n)\\frac{ f^{(n+1)}( E(x))  }{(n+1)!} $"
   ]
  },
  {
   "cell_type": "markdown",
   "metadata": {},
   "source": [
    "$\\int_a^b f(x)dx =\\int_a^b P(x)dx +\\int_a^b (x-x_0)(x-x_1)...(x-x_n)\\frac{ f^{(n+1)}( E(x))  }{(n+1)!}dx$"
   ]
  },
  {
   "cell_type": "markdown",
   "metadata": {},
   "source": [
    "Desprezamos o $\\int_a^b (x-x_0)(x-x_1)...(x-x_n)\\frac{ f^{(n+1)}( E(x))  }{(n+1)!}dx$ pois tomé"
   ]
  },
  {
   "cell_type": "markdown",
   "metadata": {},
   "source": [
    "$\\int_a^b f(x)dx$ ~=$\\int_a^b P(x)dx$"
   ]
  },
  {
   "cell_type": "markdown",
   "metadata": {},
   "source": [
    "Utilizando a fórmula de Lagrange para P(x)"
   ]
  },
  {
   "cell_type": "markdown",
   "metadata": {},
   "source": [
    "$P(x) = \\sum_{k=o}^{n} l_k(x)f(x_k) $"
   ]
  },
  {
   "cell_type": "markdown",
   "metadata": {},
   "source": []
  }
 ],
 "metadata": {
  "kernelspec": {
   "display_name": "Python 3",
   "language": "python",
   "name": "python3"
  },
  "language_info": {
   "codemirror_mode": {
    "name": "ipython",
    "version": 3
   },
   "file_extension": ".py",
   "mimetype": "text/x-python",
   "name": "python",
   "nbconvert_exporter": "python",
   "pygments_lexer": "ipython3",
   "version": "3.6.8"
  }
 },
 "nbformat": 4,
 "nbformat_minor": 2
}
