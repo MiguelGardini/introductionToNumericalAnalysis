{
 "cells": [
  {
   "cell_type": "markdown",
   "metadata": {},
   "source": [
    "Procuramos integrar f(x) em [a,b]"
   ]
  },
  {
   "cell_type": "markdown",
   "metadata": {},
   "source": [
    "$I(x) = \\int_a^b f(x)dx$ $"
   ]
  },
  {
   "cell_type": "markdown",
   "metadata": {},
   "source": [
    "Mas f(x) é muito complicada sua integração, tentamos achar um polinômio interpolador (P(x)), o qual se aproxima de f(x)."
   ]
  },
  {
   "cell_type": "markdown",
   "metadata": {},
   "source": [
    "Para tal temos n+1 pontos dentro de [a,b]"
   ]
  },
  {
   "cell_type": "markdown",
   "metadata": {},
   "source": [
    "$ E_n = f(x) - P(x) = (x-x_0)(x-x_1)...(x-x_n)\\frac{ f^{(n+1)}( E(x))  }{(n+1)!} $"
   ]
  },
  {
   "cell_type": "markdown",
   "metadata": {},
   "source": [
    "$\\int_a^b f(x)dx  - \\int_a^b P(x)dx= \\int_a^b (x-x_0)(x-x_1)...(x-x_n)\\frac{ f^{(n+1)}( E(x))  }{(n+1)!}dx$"
   ]
  },
  {
   "cell_type": "markdown",
   "metadata": {},
   "source": [
    " Tende a zero o $\\int_a^b (x-x_0)(x-x_1)...(x-x_n)\\frac{ f^{(n+1)}( E(x))  }{(n+1)!}dx$  pois tomé"
   ]
  },
  {
   "cell_type": "markdown",
   "metadata": {},
   "source": [
    "$\\int_a^b f(x)dx$ -$\\int_a^b P(x)dx ~= 0$"
   ]
  },
  {
   "cell_type": "markdown",
   "metadata": {},
   "source": [
    "$\\int_a^b f(x)dx$ ~=$\\int_a^b P(x)dx$"
   ]
  },
  {
   "cell_type": "markdown",
   "metadata": {},
   "source": [
    "Utilizando a fórmula de Lagrange para P(x)"
   ]
  },
  {
   "cell_type": "markdown",
   "metadata": {},
   "source": [
    "$P(x) = \\sum_{k=o}^{n} l_k(x)f(x_k) $"
   ]
  },
  {
   "cell_type": "markdown",
   "metadata": {},
   "source": [
    "Portanto:"
   ]
  },
  {
   "cell_type": "markdown",
   "metadata": {},
   "source": [
    "$\\int_a^b P(x) dx= \\int_a^b \\sum_{k=o}^{n} l_k(x)f(x_k) dx$"
   ]
  },
  {
   "cell_type": "markdown",
   "metadata": {},
   "source": [
    "Com este resultado e pressunpondo que os pontos dados são igualmente distante, podemos aplicar fórmulas de Newton-Cotes, como a fórmula do trapézio ou do simpson, para achar o resultado da integração."
   ]
  },
  {
   "cell_type": "markdown",
   "metadata": {},
   "source": [
    "Nessas fórmula $h=\\frac{b-a}{n} $"
   ]
  },
  {
   "cell_type": "markdown",
   "metadata": {},
   "source": [
    "## Fórmula trapézio"
   ]
  },
  {
   "cell_type": "markdown",
   "metadata": {},
   "source": [
    "Temos apenas 2 pontos dados (n=1)"
   ]
  },
  {
   "cell_type": "markdown",
   "metadata": {},
   "source": [
    "$\\int_a^b P(x) dx= \\int_a^b \\sum_{k=o}^{1} l_k(x)f(x_k) = \\int_a^b l_0(x)f(x_0)dx + \\int_a^b l_1(x)f(x_1)dx$"
   ]
  },
  {
   "cell_type": "markdown",
   "metadata": {},
   "source": [
    "$A_k = \\int_a^b l_k(x)$"
   ]
  },
  {
   "cell_type": "markdown",
   "metadata": {},
   "source": [
    "$\\int_a^b l_0(x)f(x_0)dx + \\int_a^b l_1(x)f(x_1)dx = A_0f(x_0) + A_1f(x_1)$ "
   ]
  },
  {
   "cell_type": "markdown",
   "metadata": {},
   "source": [
    "$h= \\frac{b-a}{1} = \\frac{x_1 - x_0}{1}$"
   ]
  },
  {
   "cell_type": "markdown",
   "metadata": {},
   "source": [
    "#### Cálculando o $A_0$ e $A_1$"
   ]
  },
  {
   "cell_type": "markdown",
   "metadata": {},
   "source": [
    "$A_0 =\\int_a^b l_0(x) dx  = \\int_{x_0}^{x_1} \\frac{x-x_1}{x_0-x_1}dx =$"
   ]
  },
  {
   "cell_type": "markdown",
   "metadata": {},
   "source": [
    "$\\frac{-1}{h}\\int_{x_0}^{x_1} x-x_1 dx = \\frac{-1}{h} \\frac{(-h)^2}{2} = h/2$"
   ]
  },
  {
   "cell_type": "markdown",
   "metadata": {},
   "source": [
    "$A_1 =h/2$"
   ]
  },
  {
   "cell_type": "markdown",
   "metadata": {},
   "source": [
    "$\\int_a^b P(x) dx= A_0f(x_0) + A_1f(x_1) = \\frac{h}{2}[f(x_0) + f(x_1)]$ "
   ]
  },
  {
   "cell_type": "code",
   "execution_count": 5,
   "metadata": {},
   "outputs": [],
   "source": [
    "#Fórmula do trapézio\n",
    "\n",
    "# acha integral de uma funcao f dados os pontos A, B\n",
    "def trapezio(A,B):\n",
    "    h = B[0]-A[0]\n",
    "    print(f\"o h, altura do trapézio é {h}\")\n",
    "    return h/2 * (A[1]+B[1])"
   ]
  },
  {
   "cell_type": "code",
   "execution_count": 6,
   "metadata": {},
   "outputs": [
    {
     "name": "stdout",
     "output_type": "stream",
     "text": [
      "o h, altura do trapézio é 1\n"
     ]
    },
    {
     "data": {
      "text/plain": [
       "0.42073549240394825"
      ]
     },
     "execution_count": 6,
     "metadata": {},
     "output_type": "execute_result"
    }
   ],
   "source": [
    "import math\n",
    "\n",
    "#EX: ache a integral de seno entre 0 e 1\n",
    "A = [0, math.sin(0)]\n",
    "B = [1, math.sin(1)]\n",
    "trapezio(A,B)"
   ]
  },
  {
   "cell_type": "markdown",
   "metadata": {},
   "source": [
    "### Erro fórmula do trapézio"
   ]
  },
  {
   "cell_type": "markdown",
   "metadata": {},
   "source": [
    "Visto que estamos usando um polinômio interpolador, utilizaremos o erro dele com n =1 , e P como os pontos dados"
   ]
  },
  {
   "cell_type": "markdown",
   "metadata": {},
   "source": [
    "$E_n = f(X_n) - P_n(x) = \\prod_{j=0}^{n} (x-x_j)  {\\frac{f^{n+1}(e)}{(n+1)!}}$"
   ]
  },
  {
   "cell_type": "markdown",
   "metadata": {},
   "source": [
    "$E_1 = (x-x_0) (x-x_1)  {\\frac{f^{2}(e)}{(2)!}}$"
   ]
  },
  {
   "cell_type": "markdown",
   "metadata": {},
   "source": [
    "desconsideramos o $ (x-x_0) (x-x_1)$ visto que são menores que 0, e procuramos um majorante"
   ]
  },
  {
   "cell_type": "markdown",
   "metadata": {},
   "source": [
    "$E_1 =   {\\frac{f^{2}(e)}{(2)!}}$"
   ]
  },
  {
   "cell_type": "markdown",
   "metadata": {},
   "source": [
    "aplicando integral por parte; chegamos a:"
   ]
  },
  {
   "cell_type": "markdown",
   "metadata": {},
   "source": [
    "$E_1 =  h^3/12 |f''(e)|$"
   ]
  },
  {
   "cell_type": "markdown",
   "metadata": {},
   "source": [
    "$|f''(e)|= \\max_{X \\in [a,b]}|f''(X)| $"
   ]
  },
  {
   "cell_type": "markdown",
   "metadata": {},
   "source": [
    "## Fórmula de simpson"
   ]
  },
  {
   "cell_type": "markdown",
   "metadata": {},
   "source": [
    "temos 3 pontos dados (n=2)"
   ]
  },
  {
   "cell_type": "markdown",
   "metadata": {},
   "source": [
    "$\\int_a^b P(x)  = \\sum_{k=0}^{2} A_k f(X_k) $"
   ]
  },
  {
   "cell_type": "markdown",
   "metadata": {},
   "source": [
    "$h= \\frac{b-a}{2}$"
   ]
  },
  {
   "cell_type": "markdown",
   "metadata": {},
   "source": [
    "### calculando $A_k$"
   ]
  },
  {
   "cell_type": "markdown",
   "metadata": {},
   "source": [
    "$A_0 =\\int_a^b l_0(x) dx  = \\int_{x_0}^{x_2} \\frac{(x-x_1)(x-x_2)}{(x_0-x_1)(x_0-x_2)}dx =h/3$"
   ]
  },
  {
   "cell_type": "markdown",
   "metadata": {},
   "source": [
    "$A_1 =\\int_a^b l_1(x) dx  = \\int_{x_0}^{x_2} \\frac{(x-x_0)(x-x_2)}{(x_1-x_1)(x_1-x_2)}dx =4h/3$"
   ]
  },
  {
   "cell_type": "markdown",
   "metadata": {},
   "source": [
    "$A_2 =\\int_a^b l_2(x) dx  = \\int_{x_0}^{x_2} \\frac{(x-x_0)(x-x_1)}{(x_2-x_0)(x_2-x_1)}dx =h/3$"
   ]
  },
  {
   "cell_type": "markdown",
   "metadata": {},
   "source": [
    "$\\int_a^b P(x) = \\frac{h}{3}f(x_0) + \\frac{4h}{3}f(x_1) + \\frac{h}{3}f(x_2)$"
   ]
  },
  {
   "cell_type": "code",
   "execution_count": 10,
   "metadata": {},
   "outputs": [],
   "source": [
    "#acha resultado da integral de f entre a e b\n",
    "def simpson1(a,b,f):\n",
    "    h = (b-a)/2\n",
    "    it0 = h/3 * f(a)\n",
    "    it1 = h*4/3 * f((b-a)/2)\n",
    "    it2 = h/3 * f(b)\n",
    "\n",
    "    print(f'h: {h}')\n",
    "    print(f'A0 * f(x0): {it0}')\n",
    "    print(f'A1 * f(x1): {it1}')\n",
    "    print(f'A2 * f(x2): {it2}')\n",
    "    return it0+it1+it2"
   ]
  },
  {
   "cell_type": "code",
   "execution_count": 11,
   "metadata": {},
   "outputs": [
    {
     "name": "stdout",
     "output_type": "stream",
     "text": [
      "h: 0.5\n",
      "A0 * f(x0): 0.0\n",
      "A1 * f(x1): 0.3196170257361353\n",
      "A2 * f(x2): 0.1402451641346494\n"
     ]
    },
    {
     "data": {
      "text/plain": [
       "0.45986218987078475"
      ]
     },
     "execution_count": 11,
     "metadata": {},
     "output_type": "execute_result"
    }
   ],
   "source": [
    "import math\n",
    "simpson1(0,1,lambda x: math.sin(x))"
   ]
  },
  {
   "cell_type": "code",
   "execution_count": 12,
   "metadata": {},
   "outputs": [],
   "source": [
    "#acha resultado da integral de uma funcao f com os pontos P(esse pontos tem que ser equidistântes) \n",
    "def simpson2(P):\n",
    "    h = (P[2]-P[0])/2\n",
    "    \n",
    "    it0 = h/3 * P[0]\n",
    "    it1 = h*4/3 * P[1]\n",
    "    it2 = h/3 * P[2]\n",
    "    \n",
    "    print(f'h: {h}')\n",
    "    print(f'A0 * f(x0): {it0}')\n",
    "    print(f'A1 * f(x1): {it1}')\n",
    "    print(f'A2 * f(x2): {it2}')\n",
    "    return it0+it1+it2"
   ]
  },
  {
   "cell_type": "markdown",
   "metadata": {},
   "source": [
    "### Erro do método de simpson"
   ]
  },
  {
   "cell_type": "markdown",
   "metadata": {},
   "source": [
    "$|I(f) - I_s(f)| = |E_s(f)|$"
   ]
  },
  {
   "cell_type": "markdown",
   "metadata": {},
   "source": [
    "$E_s(f) = \\frac{-h^5}{90} f^{(4)}(e)$"
   ]
  },
  {
   "cell_type": "markdown",
   "metadata": {},
   "source": [
    "$|E_s(f)| =  \\frac{-h^5}{90} f^4(e) \\leqslant \\frac{-h^5}{90} \\max_{X \\in [a,b]}|f^{(4)}(X)| $"
   ]
  },
  {
   "cell_type": "markdown",
   "metadata": {},
   "source": [
    "## Fórmula de Quadratura composta"
   ]
  },
  {
   "cell_type": "markdown",
   "metadata": {},
   "source": [
    "Tendo os n+1 pontos $[X_0,X_1,...,X_N]$, tentamos calcular a integral"
   ]
  },
  {
   "cell_type": "markdown",
   "metadata": {},
   "source": [
    "$I(x) = \\int_a^b f(x)dx$ "
   ]
  },
  {
   "cell_type": "markdown",
   "metadata": {},
   "source": [
    "Divimos a integral em integrais menores e resolvemos cada uma dessas separadamente com fórmulas já vistas"
   ]
  },
  {
   "cell_type": "markdown",
   "metadata": {},
   "source": [
    "### Fórmula do trapézio composta"
   ]
  },
  {
   "cell_type": "markdown",
   "metadata": {},
   "source": [
    "Dividimos a integral em n partes; utilizando a fórmula do trapézio:"
   ]
  },
  {
   "cell_type": "markdown",
   "metadata": {},
   "source": [
    "$h = \\frac{b-a}{n}$"
   ]
  },
  {
   "cell_type": "markdown",
   "metadata": {},
   "source": [
    "$\\int_a^b f(x)dx  =\\sum_{k=1}^{n} \\int_{X_{k-1}}^{X_k} f(x)  dx=$"
   ]
  },
  {
   "cell_type": "markdown",
   "metadata": {},
   "source": [
    "$\\sum_{k=1}^{n} \\frac{h}{2}[f(x_k-1) + f(x_k)] =$"
   ]
  },
  {
   "cell_type": "markdown",
   "metadata": {},
   "source": [
    "$h/2[f(x_0)+f(x_n) + 2\\sum_{k=1}^{n-1} funcao(x_k)   ]$"
   ]
  },
  {
   "cell_type": "code",
   "execution_count": 6,
   "metadata": {},
   "outputs": [],
   "source": [
    "import numpy\n",
    "#calcula aproximadamente a integral entre a e b de funcao f\n",
    "#com n sub intervalos\n",
    "\n",
    "def formulaCompostaTrapezio(a,b,n,f):\n",
    "    \n",
    "    #achando pontos que começam e terminam as integrais\n",
    "    it = list(numpy.linspace(a,b,n+1))\n",
    "    print(f\"pontos conhecidos:{it}\")\n",
    "    h = (b-a)/(n)\n",
    "    print(f'valor de h: {h}')\n",
    "    \n",
    "    \n",
    "    #somando os valores de funcao nos pontos de iteraçoes\n",
    "    fs = funcao(it[0]) + funcao(it[-1])\n",
    "    it.pop(0)\n",
    "    it.pop(-1)\n",
    "    fs += sum(2*funcao(i) for i in it)\n",
    "    \n",
    "\n",
    "    print(f'soma das integrais : {fs}')\n",
    "    \n",
    "    return h/2*fs"
   ]
  },
  {
   "cell_type": "code",
   "execution_count": 7,
   "metadata": {},
   "outputs": [
    {
     "name": "stdout",
     "output_type": "stream",
     "text": [
      "pontos conhecidos:[0.0, 0.5, 1.0]\n",
      "valor de h: 0.5\n",
      "soma das integrais : 1.8003220620163025\n"
     ]
    },
    {
     "data": {
      "text/plain": [
       "0.45008051550407563"
      ]
     },
     "execution_count": 7,
     "metadata": {},
     "output_type": "execute_result"
    }
   ],
   "source": [
    "import math\n",
    "funcao = lambda x: math.sin(x)\n",
    "formulaCompostaTrapezio(0,1,2,funcao)"
   ]
  },
  {
   "cell_type": "markdown",
   "metadata": {},
   "source": [
    "### Erro fórmula de quadratura composta do trapézio"
   ]
  },
  {
   "cell_type": "markdown",
   "metadata": {},
   "source": [
    "${E^n}_T(f) = \\frac{-Nh^3}{12}f''(e)$"
   ]
  },
  {
   "cell_type": "markdown",
   "metadata": {},
   "source": [
    "$|{E^n}_T(f)| = \\frac{Nh^3}{12} \\max_{X \\in [a,b]}|f''(X)|$"
   ]
  },
  {
   "cell_type": "markdown",
   "metadata": {},
   "source": [
    "### Fórmula do simpson composta"
   ]
  },
  {
   "cell_type": "markdown",
   "metadata": {},
   "source": [
    "Dividimos a integral em n partes(n par); utilizando a fórmula do simpson:"
   ]
  },
  {
   "cell_type": "markdown",
   "metadata": {},
   "source": [
    "$h = \\frac{b-a}{n}$"
   ]
  },
  {
   "cell_type": "markdown",
   "metadata": {},
   "source": [
    "$\\int_a^b f(x)dx  =\\sum_{k=0}^{n/2} \\int_{X_{k*2}}^{X_{(k+1)*2}} f(x)  dx=$"
   ]
  },
  {
   "cell_type": "markdown",
   "metadata": {},
   "source": [
    "$h/3[f(x_0)+f(x_n) + 2\\sum_{j=1}^{\\frac{n}{2}-1} f(x_{2*j})  + 4\\sum_{j=1}^{\\frac{n}{2}} f(x_{2*j -1}) ]$"
   ]
  },
  {
   "cell_type": "code",
   "execution_count": 32,
   "metadata": {},
   "outputs": [],
   "source": [
    "import numpy\n",
    "#calcula aproximadamente a integral entre a e b de funcao f\n",
    "#com n sub intervalos\n",
    "\n",
    "def formulaCompostaSimpon(a,b,n,f):\n",
    "    \n",
    "    if(n % 2 ==1):\n",
    "        print(\"n tem que ser par :I\")\n",
    "        return\n",
    "    \n",
    "    #achando pontos que começam e terminam as integrais\n",
    "    it = list(numpy.linspace(a,b,n+1))\n",
    "    print(f\"pontos conhecidos:{it}\")\n",
    "    \n",
    "    h = (b-a)/(n)\n",
    "    print(f'valor de h: {h}')\n",
    "    \n",
    "    print(f'valor de f(a): {f(a)}')\n",
    "    print(f'valor de f(b): {f(b)}')\n",
    "    \n",
    "    # pontos pertencentes ao primeiro somatório\n",
    "    pSomatorio1= [2*j for j in range(1,int(n/2) -1 +1)]\n",
    "    somatorio1 = [2*f(i) for i in pSomatorio1]\n",
    "    print(f\"primeiro somatório:{somatorio1}\")\n",
    "    \n",
    "    #pontos pertencentes ao segundo somatório\n",
    "    pSomatorio2= [2*j -1 for j in range(1,int(n/2) +1)]\n",
    "    somatorio2 = [4*f(i) for i in pSomatorio2]\n",
    "    print(f\"primeiro somatório:{somatorio2}\")\n",
    "    \n",
    "    resp = f(a) + f(b)\n",
    "    resp += sum(somatorio1)\n",
    "    resp += sum(somatorio2)\n",
    "    \n",
    "    resp *= h/3\n",
    "    \n",
    "\n",
    "    print(f'o resultado da integral eh : {resp}')\n",
    "    \n",
    "    return resp"
   ]
  },
  {
   "cell_type": "code",
   "execution_count": 33,
   "metadata": {},
   "outputs": [
    {
     "name": "stdout",
     "output_type": "stream",
     "text": [
      "pontos conhecidos:[0.0, 1.0, 2.0, 3.0, 4.0, 5.0, 6.0, 7.0, 8.0, 9.0, 10.0]\n",
      "valor de h: 1.0\n",
      "valor de f(a): 0.0\n",
      "valor de f(b): -0.5440211108893698\n",
      "primeiro somatório:[1.8185948536513634, -1.5136049906158564, -0.5588309963978517, 1.9787164932467636]\n",
      "primeiro somatório:[3.365883939231586, 0.5644800322394689, -3.835697098652554, 2.6279463948751562, 1.6484739409670264]\n",
      "o resultado da integral eh : 1.850647152551911\n"
     ]
    },
    {
     "data": {
      "text/plain": [
       "1.850647152551911"
      ]
     },
     "execution_count": 33,
     "metadata": {},
     "output_type": "execute_result"
    }
   ],
   "source": [
    "funcao = lambda x: math.sin(x)\n",
    "formulaCompostaSimpon(0,10,10,funcao)"
   ]
  },
  {
   "cell_type": "markdown",
   "metadata": {},
   "source": [
    "### Erro fórmula de quadratura composta de simpson"
   ]
  },
  {
   "cell_type": "markdown",
   "metadata": {},
   "source": [
    "${E^n}_T(f) = \\frac{-Nh^5}{180}f''''(e)$"
   ]
  },
  {
   "cell_type": "markdown",
   "metadata": {},
   "source": [
    "$|{E^n}_T(f)| = \\frac{-Nh^5}{180} \\max_{X \\in [a,b]}|f''''(X)|$"
   ]
  },
  {
   "cell_type": "markdown",
   "metadata": {},
   "source": [
    "### grau de precisão de uma fórmula de quadratura"
   ]
  },
  {
   "cell_type": "markdown",
   "metadata": {},
   "source": [
    "O grau de precisão ($I_Q(f)$) é um número inteiro maior ou igual a r, tal que:"
   ]
  },
  {
   "cell_type": "markdown",
   "metadata": {},
   "source": [
    "$E_q(x^k)=0$, p/ $k=0,1,2,...,r$"
   ]
  },
  {
   "cell_type": "markdown",
   "metadata": {},
   "source": [
    "$E_q(x^{r+1}) $ !$=0$"
   ]
  },
  {
   "cell_type": "markdown",
   "metadata": {},
   "source": [
    "No caso do trapézio, o $r=1$ visto que ${E^n}_T(f) = \\frac{-Nh^3}{12}f''(e)$"
   ]
  },
  {
   "cell_type": "markdown",
   "metadata": {},
   "source": [
    "No caso de simpson, o $r=3$ visto que ${E^n}_T(f) = \\frac{-Nh^5}{180}f''''(e)$"
   ]
  },
  {
   "cell_type": "markdown",
   "metadata": {},
   "source": [
    "# PARTE DOS POLINOMIOS NÃO ENTENDI, ALGUEM RESOLVA :///"
   ]
  },
  {
   "cell_type": "code",
   "execution_count": null,
   "metadata": {},
   "outputs": [],
   "source": []
  }
 ],
 "metadata": {
  "kernelspec": {
   "display_name": "Python 3",
   "language": "python",
   "name": "python3"
  },
  "language_info": {
   "codemirror_mode": {
    "name": "ipython",
    "version": 3
   },
   "file_extension": ".py",
   "mimetype": "text/x-python",
   "name": "python",
   "nbconvert_exporter": "python",
   "pygments_lexer": "ipython3",
   "version": "3.6.8"
  }
 },
 "nbformat": 4,
 "nbformat_minor": 2
}
