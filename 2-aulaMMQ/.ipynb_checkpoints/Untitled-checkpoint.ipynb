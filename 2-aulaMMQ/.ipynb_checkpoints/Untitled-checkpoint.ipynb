{
 "cells": [
  {
   "cell_type": "markdown",
   "metadata": {},
   "source": [
    "### Método dos mínimos Quadrados (MMQ)"
   ]
  },
  {
   "cell_type": "markdown",
   "metadata": {},
   "source": [
    "### Caso Discreto:"
   ]
  },
  {
   "cell_type": "markdown",
   "metadata": {},
   "source": [
    "Dados os pontos $(X_0 , F(X_0)), ... , (X_n , F(X_n))$  para  $X_0,X_1,...X_n$ procuramos uma função que aproxima F(X), chamamos tal de G(X)"
   ]
  },
  {
   "cell_type": "markdown",
   "metadata": {},
   "source": [
    "$ G(X) = A_0g_0(X) + A_1g_1(X) + ... + A_ng_n(X)$"
   ]
  },
  {
   "cell_type": "markdown",
   "metadata": {},
   "source": [
    "$g_m(X)$ são funções previamente escolhidas"
   ]
  },
  {
   "cell_type": "markdown",
   "metadata": {},
   "source": [
    "$A_m$ são parâmetros a serem escolhidos procurando achar o mínimo do erro para todos os pontos co conhecidos"
   ]
  },
  {
   "cell_type": "markdown",
   "metadata": {},
   "source": [
    "erro = Q(x) = $\\sum_{i=0}^{n} |F(X_i) - G(X_i)|$"
   ]
  },
  {
   "cell_type": "markdown",
   "metadata": {},
   "source": [
    "Para facilitar o calculo trocamos a fórmula de erro por:"
   ]
  },
  {
   "cell_type": "markdown",
   "metadata": {},
   "source": [
    "Q(x) = $\\sum_{i=0}^{n} (F(X_i) - G(X_i))^2$"
   ]
  },
  {
   "cell_type": "markdown",
   "metadata": {},
   "source": [
    "(o mínimo continua o mesmo)"
   ]
  },
  {
   "cell_type": "markdown",
   "metadata": {},
   "source": [
    "(caso queiram uma explicação matematiques, utilize o caderno do giovanni)"
   ]
  },
  {
   "cell_type": "markdown",
   "metadata": {},
   "source": [
    "#### Observe:"
   ]
  },
  {
   "cell_type": "markdown",
   "metadata": {},
   "source": [
    "G(X) apresenta (n+1) incognitas:"
   ]
  },
  {
   "cell_type": "markdown",
   "metadata": {},
   "source": [
    "Q(x) = $\\sum_{i=0}^{n} (F(X_i) -  A_0g_0(X_i))^2$"
   ]
  },
  {
   "cell_type": "markdown",
   "metadata": {},
   "source": [
    "para n=0 ,há única incognita, o $A_0$.\n"
   ]
  },
  {
   "cell_type": "markdown",
   "metadata": {},
   "source": [
    "Q(x)= $\\sum_{i=0}^{n} (F(X) -  A_0g_0(X_i) - A_1g_1(X_i))^2$"
   ]
  },
  {
   "cell_type": "markdown",
   "metadata": {},
   "source": [
    "para n=1 , há as incognitas $A_0$ e $A_1$."
   ]
  },
  {
   "cell_type": "markdown",
   "metadata": {},
   "source": [
    "#### Oberse2:"
   ]
  },
  {
   "cell_type": "markdown",
   "metadata": {},
   "source": [
    "O Q(x) é um polinômio de grau 2"
   ]
  },
  {
   "cell_type": "markdown",
   "metadata": {},
   "source": [
    " Q(x) tem o formato de uma parábola com formato de U"
   ]
  },
  {
   "cell_type": "markdown",
   "metadata": {},
   "source": [
    " apresenta um mínimo"
   ]
  },
  {
   "cell_type": "markdown",
   "metadata": {},
   "source": [
    " $Q(x) \\geq 0$"
   ]
  },
  {
   "cell_type": "markdown",
   "metadata": {},
   "source": [
    "#### Achando mínimo"
   ]
  },
  {
   "cell_type": "markdown",
   "metadata": {},
   "source": [
    "Para tal procuramos de mínimo, ou seja o gradiente é zero:"
   ]
  },
  {
   "cell_type": "markdown",
   "metadata": {},
   "source": [
    "$\\nabla(Q) = [\\frac{\\partial Q}{\\partial A_0} , \\frac{\\partial Q}{\\partial A_1} , ... \\frac{\\partial Q}{\\partial A_n}] = [0,0,...,0]$ "
   ]
  },
  {
   "cell_type": "markdown",
   "metadata": {},
   "source": [
    "Para cada j=0,1,...,n:"
   ]
  },
  {
   "cell_type": "markdown",
   "metadata": {},
   "source": [
    "$\\frac{\\partial }{\\partial A_j}( \\sum_{i=0}^{n} [F(X_i)  - G(X_i)]^2 = 0$"
   ]
  },
  {
   "cell_type": "markdown",
   "metadata": {},
   "source": [
    "$ \\sum_{i=0}^{n} \\frac{\\partial }{\\partial A_j} [F(X_i)  - G(X_i)]^2 = 0$"
   ]
  },
  {
   "cell_type": "markdown",
   "metadata": {},
   "source": [
    "$ \\sum_{i=0}^{n} 2[F(X_i)  - G(X_i)](-g_j(X_i)) = 0$"
   ]
  },
  {
   "cell_type": "markdown",
   "metadata": {},
   "source": [
    "$ \\sum_{i=0}^{n} [-F(X_i)g_j(X_i)  + G(X_i)g_j(X_i)] = 0$"
   ]
  },
  {
   "cell_type": "markdown",
   "metadata": {},
   "source": [
    "$ \\sum_{i=0}^{n} [\\lbrace(A_0g_0(X_i) + A_1g_1(X_i) + ... + A_ng_n(X_i)\\rbrace g_j(X_i) ] = \\sum_{i=0}^{n}F(X_i)g_j(X_i) $"
   ]
  },
  {
   "cell_type": "markdown",
   "metadata": {},
   "source": [
    "$ A_0\\sum_{i=0}^{n} [g_0(X_i)g_j(X_i)] + A_1\\sum_{i=0}^{n} [g_1(X_i)g_j(X_i)] + ... + A_n\\sum_{i=0}^{n} [g_n(X_i)g_j(X_i)]= \\sum_{i=0}^{n}F(X_i)g_j(X_i) $"
   ]
  },
  {
   "cell_type": "markdown",
   "metadata": {},
   "source": [
    "tudo isso pode ser reescrito como E*A=F\n"
   ]
  },
  {
   "cell_type": "markdown",
   "metadata": {},
   "source": [
    "F transposto $= [ \\sum_{i=0}^{n}F(X_i)g_0(X_i)$ , $\\sum_{i=0}^{n}F(X_i)g_1(X_i)$ , ... ,$\\sum_{i=0}^{n}F(X_i)g_n(X_i) ]$"
   ]
  },
  {
   "cell_type": "markdown",
   "metadata": {},
   "source": [
    "A transposto $= [A_0,A_1,...,A_N]$"
   ]
  },
  {
   "cell_type": "markdown",
   "metadata": {},
   "source": [
    "$E =$ $$\\begin{matrix} \n",
    "\\sum_{i=0}^{n} [g_0(X_i)g_0(X_i)] & \\sum_{i=0}^{n} [g_1(X_i)g_0(X_i)] & ... & \\sum_{i=0}^{n} [g_m(X_i)g_0(X_i)] \\\\\n",
    "\\sum_{i=0}^{n} [g_0(X_i)g_1(X_i)] & \\sum_{i=0}^{n} [g_1(X_i)g_1(X_i)] & ... & \\sum_{i=0}^{n} [g_m(X_i)g_1(X_i)] \\\\\n",
    "... & ... & ... & ... \\\\\n",
    "\\sum_{i=0}^{n} [g_0(X_i)g_m(X_i)] & \\sum_{i=0}^{n} [g_1(X_i)g_m(X_i)] & ... & \\sum_{i=0}^{n} [g_m(X_i)g_m(X_i)] \n",
    "\\end{matrix} \n",
    "\\quad\n",
    "$$ "
   ]
  },
  {
   "cell_type": "markdown",
   "metadata": {},
   "source": [
    "E é SPD, portanto adimite solução única"
   ]
  },
  {
   "cell_type": "code",
   "execution_count": 18,
   "metadata": {},
   "outputs": [],
   "source": [
    "import numpy as np\n",
    "\n",
    "\n",
    "# X são os pontos x\n",
    "#f são os valores da funcao nos pontos x\n",
    "#funções que aproximam a função original\n",
    "def mmq(X,f,G):\n",
    "    somatorioEmF = lambda gg: sum([ f[index]*gg(x) for index, x in enumerate(X)] )\n",
    "\n",
    "    F = [somatorioEmF(g) for g in G]\n",
    "    print('F:')\n",
    "    print(F)\n",
    "    print('\\n\\n')\n",
    "\n",
    "    somatorioEmE = lambda gj,gk: sum([ gj(x)*gk(x) for x in X] )\n",
    "\n",
    "    E = np.zeros(( len(F) ,len(F) ))\n",
    "    for j in range(E.shape[0]):\n",
    "        for k in range(E.shape[1]):\n",
    "            E[j][k] = somatorioEmE(G[j],G[k])\n",
    "    print('E:')\n",
    "    print(E)\n",
    "    \n",
    "    return (E,F)"
   ]
  },
  {
   "cell_type": "code",
   "execution_count": 14,
   "metadata": {},
   "outputs": [
    {
     "name": "stdout",
     "output_type": "stream",
     "text": [
      "F:\n",
      "[0.42150757575757575, 0.9686153846153847]\n",
      "\n",
      "\n",
      "\n",
      "E:\n",
      "[[0.15021835 0.33947164]\n",
      " [0.33947164 0.78301775]]\n"
     ]
    }
   ],
   "source": [
    "X = [0.5,1.0,1.5,2.0]\n",
    "\n",
    "f = [0.5205,0.62000,0.5560,0.4845]\n",
    "\n",
    "G = [(lambda z: 1/(z+4)),\n",
    "     (lambda z: z/(1+z*z))]\n",
    "mmq(X,f,G)"
   ]
  },
  {
   "cell_type": "code",
   "execution_count": null,
   "metadata": {},
   "outputs": [],
   "source": [
    "#código para achar A"
   ]
  },
  {
   "cell_type": "markdown",
   "metadata": {},
   "source": [
    "### Caso não linear:"
   ]
  },
  {
   "cell_type": "markdown",
   "metadata": {},
   "source": [
    "Procura-se aproximar F(x) para G(x), sendo G(x)"
   ]
  },
  {
   "cell_type": "markdown",
   "metadata": {},
   "source": [
    "$ G(X) \\neq A_0g_0(X) + A_1g_1(X) + ... + A_ng_n(X)$"
   ]
  },
  {
   "cell_type": "markdown",
   "metadata": {},
   "source": [
    "Portanto procuramos achar uma função derivada de G(X) chamada G'(X), o qual corresponde para o caso discreto"
   ]
  },
  {
   "cell_type": "markdown",
   "metadata": {},
   "source": [
    "#### Exemplo"
   ]
  },
  {
   "cell_type": "markdown",
   "metadata": {},
   "source": [
    "$G(X) = A_0 e^{A_1X}  \\sim= F(X) $"
   ]
  },
  {
   "cell_type": "markdown",
   "metadata": {},
   "source": [
    "$ln(G(X)) = ln(A_0 e^{A_1X}) =ln(A_0)+ A_1X \\sim= ln(F(X)) $"
   ]
  },
  {
   "cell_type": "markdown",
   "metadata": {},
   "source": [
    "$G'(X) =ln(A_0)+ A_1X \\sim= F'(X) $"
   ]
  },
  {
   "cell_type": "markdown",
   "metadata": {},
   "source": [
    "#### Exemplo2"
   ]
  },
  {
   "cell_type": "markdown",
   "metadata": {},
   "source": [
    "$G(x) = (1+x^2) e^{ax+b}$"
   ]
  },
  {
   "cell_type": "markdown",
   "metadata": {},
   "source": [
    "Pontos = [ (0.5 , 3.1256), (1 , 5.907), (1.2 , 7.703), (1.5 , 11.338) ]"
   ]
  },
  {
   "cell_type": "markdown",
   "metadata": {},
   "source": [
    "Lineanizando g(x):"
   ]
  },
  {
   "cell_type": "markdown",
   "metadata": {},
   "source": [
    "$G(x) = (1+x^2) e^{ax+b}$ ~= $F(x)$"
   ]
  },
  {
   "cell_type": "markdown",
   "metadata": {},
   "source": [
    "$e^{ax+b} $ ~=$\\frac{F(x)}{(1+x^2)}$"
   ]
  },
  {
   "cell_type": "markdown",
   "metadata": {},
   "source": [
    "$ax + b $ ~= $ln(\\frac{F(x)}{(1+x^2)}) = f'(x)$"
   ]
  },
  {
   "cell_type": "markdown",
   "metadata": {},
   "source": [
    "Obs: calcule os pontos segundo o f'(x) agora"
   ]
  },
  {
   "cell_type": "code",
   "execution_count": 1,
   "metadata": {},
   "outputs": [],
   "source": [
    "import math\n",
    "#i[1] é o F(x)\n",
    "#i[0] é o x\n",
    "# i = log(f(x)/(1+x*x))\n",
    "ff = lambda i: math.log(i[1]/(1+ i[0]*i[0])) "
   ]
  },
  {
   "cell_type": "code",
   "execution_count": 3,
   "metadata": {},
   "outputs": [
    {
     "name": "stdout",
     "output_type": "stream",
     "text": [
      "novos pontos de g'(x)\n",
      "[0.916482713444514, 1.082990907765153, 1.1496118240657183, 1.2495049195604657]\n"
     ]
    }
   ],
   "source": [
    "X = [0.5, 1, 1.2, 1.5]\n",
    "Y = [3.1256 ,5.907 , 7.703, 11.338]\n",
    "\n",
    "f =[ff(i) for i in list(zip(X,Y))]\n",
    "print(\"novos pontos de g'(x)\")\n",
    "print(f)"
   ]
  },
  {
   "cell_type": "markdown",
   "metadata": {},
   "source": [
    "Monta o sistema de matriz de forma a ser E*A =F"
   ]
  },
  {
   "cell_type": "code",
   "execution_count": 24,
   "metadata": {},
   "outputs": [
    {
     "name": "stdout",
     "output_type": "stream",
     "text": [
      "F:\n",
      "[4.7950238327069705, 4.398590364835851]\n",
      "\n",
      "\n",
      "\n",
      "E:\n",
      "[[4.94 4.2 ]\n",
      " [4.2  4.  ]]\n",
      "[0. 0.]\n"
     ]
    }
   ],
   "source": [
    "G = [(lambda x: x),(lambda x:1)]\n",
    "\n",
    "(E, F) =mmq(X,f,G)\n",
    "\n",
    "A = np.zeros(len(F))"
   ]
  },
  {
   "cell_type": "markdown",
   "metadata": {},
   "source": [
    "aplique um algoritmo para resolver o sistema, resultando:"
   ]
  },
  {
   "cell_type": "markdown",
   "metadata": {},
   "source": [
    "$G(x) = (1+x^2) e^{0.333026x+0.74997}$"
   ]
  },
  {
   "cell_type": "markdown",
   "metadata": {},
   "source": [
    "calculando o erro mínimo:\n",
    "$Q(x)=\\sum_{i=0}^{n} (F(X_i) - G(X_i))^2  $"
   ]
  },
  {
   "cell_type": "code",
   "execution_count": null,
   "metadata": {},
   "outputs": [],
   "source": []
  }
 ],
 "metadata": {
  "kernelspec": {
   "display_name": "Python 3",
   "language": "python",
   "name": "python3"
  },
  "language_info": {
   "codemirror_mode": {
    "name": "ipython",
    "version": 3
   },
   "file_extension": ".py",
   "mimetype": "text/x-python",
   "name": "python",
   "nbconvert_exporter": "python",
   "pygments_lexer": "ipython3",
   "version": "3.6.8"
  }
 },
 "nbformat": 4,
 "nbformat_minor": 2
}
