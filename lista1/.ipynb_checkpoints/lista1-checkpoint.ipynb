{
 "cells": [
  {
   "cell_type": "markdown",
   "metadata": {},
   "source": [
    "# Conceitos iniciais para a lista 1"
   ]
  },
  {
   "cell_type": "markdown",
   "metadata": {},
   "source": [
    "### Teorema do valor intermediário"
   ]
  },
  {
   "cell_type": "markdown",
   "metadata": {},
   "source": [
    "Se $f(a)f(b)<0$ , então existe $z \\in [a,b]$ tal que $f(z)=0$, isto é, há uma raiz."
   ]
  },
  {
   "cell_type": "markdown",
   "metadata": {},
   "source": [
    "__Importante__: Caso o teorema não seja válido para determinado exercício, não significa que a função não possua uma raiz, uma vez que ele é condição **suficiente** e não **necessária** para a utilização de métodos numéricos de resolução de equações não lineares."
   ]
  },
  {
   "cell_type": "markdown",
   "metadata": {},
   "source": [
    "Depois de obtido o intervalo $[a, b]$ que contém z, podemos escolher um método numérico para calcular uma aproximação de $x_1, x_2, x_3,..., x_k$ que convirjam para $z$."
   ]
  },
  {
   "cell_type": "markdown",
   "metadata": {},
   "source": [
    "## Método da bissecção"
   ]
  },
  {
   "cell_type": "markdown",
   "metadata": {},
   "source": [
    "> Obs.: Não funciona para casos em que existe mais de uma raiz da função dentro do intervalo $[a,b]$"
   ]
  },
  {
   "cell_type": "code",
   "execution_count": 5,
   "metadata": {},
   "outputs": [],
   "source": [
    "def metodoBisseccao(a, b, funcao, erro):\n",
    "\n",
    "    print(\">>> Intervalo atual: \", \"a: \", a, \" b: \", b)\n",
    "    x = (a + b) / 2  # Calculamos o ponto medio.\n",
    "    print(\">>> Ponto medio:\", x)\n",
    "\n",
    "    if (abs(a - x) <= erro):\n",
    "        return x\n",
    "\n",
    "    verificacao = funcao(a)*funcao(x)\n",
    "    print(\">>> f(a)*f(x): \", verificacao)\n",
    "\n",
    "    # Caso f(a)*f(x) > 0, entao... [x, b]\n",
    "    if (verificacao > 0):\n",
    "        print('>>> Proxima iteracao: [x, b]')\n",
    "        return metodoBisseccao(x, b, funcao, erro)\n",
    "    else:\n",
    "        print('>>> Proxima iteracao: [a, x]')\n",
    "        return metodoBisseccao(a, x, funcao, erro)\n"
   ]
  },
  {
   "cell_type": "code",
   "execution_count": 10,
   "metadata": {},
   "outputs": [
    {
     "name": "stdout",
     "output_type": "stream",
     "text": [
      ">>> Intervalo atual:  a:  0  b:  2\n",
      ">>> Ponto medio: 1.0\n",
      ">>> f(a)*f(x):  5.12687268616382\n",
      ">>> Proxima iteracao: [x, b]\n",
      ">>> Intervalo atual:  a:  1.0  b:  2\n",
      ">>> Ponto medio: 1.5\n",
      ">>> f(a)*f(x):  -3.4895207948093603\n",
      ">>> Proxima iteracao: [a, x]\n",
      ">>> Intervalo atual:  a:  1.0  b:  1.5\n",
      ">>> Ponto medio: 1.25\n",
      ">>> f(a)*f(x):  -0.46517230569722967\n",
      ">>> Proxima iteracao: [a, x]\n",
      ">>> Intervalo atual:  a:  1.0  b:  1.25\n",
      ">>> Ponto medio: 1.125\n",
      ">>> f(a)*f(x):  0.6854065401758516\n",
      ">>> Proxima iteracao: [x, b]\n",
      ">>> Intervalo atual:  a:  1.125  b:  1.25\n",
      ">>> Ponto medio: 1.1875\n",
      ">>> f(a)*f(x):  0.056864567762418626\n",
      ">>> Proxima iteracao: [x, b]\n",
      ">>> Intervalo atual:  a:  1.1875  b:  1.25\n",
      ">>> Ponto medio: 1.21875\n",
      ">>> f(a)*f(x):  -0.013077172044994142\n",
      ">>> Proxima iteracao: [a, x]\n",
      ">>> Intervalo atual:  a:  1.1875  b:  1.21875\n",
      ">>> Ponto medio: 1.203125\n",
      ">>> f(a)*f(x):  -0.0007462821456601511\n",
      ">>> Proxima iteracao: [a, x]\n",
      ">>> Intervalo atual:  a:  1.1875  b:  1.203125\n",
      ">>> Ponto medio: 1.1953125\n",
      "1.1953125\n"
     ]
    }
   ],
   "source": [
    "import numpy as np\n",
    "\n",
    "f = lambda x: x*(np.e**x) - 4\n",
    "print(metodoBisseccao(0, 2, f, 0.01))"
   ]
  },
  {
   "cell_type": "code",
   "execution_count": null,
   "metadata": {},
   "outputs": [],
   "source": []
  }
 ],
 "metadata": {
  "kernelspec": {
   "display_name": "Python 3",
   "language": "python",
   "name": "python3"
  },
  "language_info": {
   "codemirror_mode": {
    "name": "ipython",
    "version": 3
   },
   "file_extension": ".py",
   "mimetype": "text/x-python",
   "name": "python",
   "nbconvert_exporter": "python",
   "pygments_lexer": "ipython3",
   "version": "3.7.4"
  }
 },
 "nbformat": 4,
 "nbformat_minor": 2
}
