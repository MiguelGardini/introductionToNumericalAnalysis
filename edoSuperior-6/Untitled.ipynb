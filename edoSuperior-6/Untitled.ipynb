{
 "cells": [
  {
   "cell_type": "markdown",
   "metadata": {},
   "source": [
    "Um sistema de edo de primeira ordem pode ser expresso por:"
   ]
  },
  {
   "cell_type": "markdown",
   "metadata": {},
   "source": [
    "$Y_1'(x) = f_1(X, Y_1(x),Y_2(x), ... , Y_n(x))$ , $Y_1(X_0) = Y_{10}$ "
   ]
  },
  {
   "cell_type": "markdown",
   "metadata": {},
   "source": [
    "$Y_2'(x) = f_2(X, Y_1(x),Y_2(x), ... , Y_n(x))$ , $Y_2(X_0) = Y_{20}$ "
   ]
  },
  {
   "cell_type": "markdown",
   "metadata": {},
   "source": []
  },
  {
   "cell_type": "markdown",
   "metadata": {},
   "source": [
    "..."
   ]
  },
  {
   "cell_type": "markdown",
   "metadata": {},
   "source": [
    "$Y_n'(x) = f_n(X, Y_1(x),Y_2(x), ... , Y_n(x))$ , $Y_n(X_0) = Y_{n0}$ "
   ]
  },
  {
   "cell_type": "markdown",
   "metadata": {},
   "source": [
    "O sistema apresenta n incognitas e n equações"
   ]
  },
  {
   "cell_type": "markdown",
   "metadata": {},
   "source": [
    "Podemos escrever o sistema dessa forma:"
   ]
  },
  {
   "cell_type": "markdown",
   "metadata": {},
   "source": [
    "$F(X,Y)transposto = [f_1(X, Y_1(x),Y_2(x), ... , Y_n(x)) , f_2(X, Y_1(x),Y_2(x), ... , Y_n(x)) , ... ,  f_n(X, Y_1(x),Y_2(x), ... , Y_n(x))]$"
   ]
  },
  {
   "cell_type": "markdown",
   "metadata": {},
   "source": [
    "$Y(X)transposto = [Y_1(X),Y_2(X),...,Y_N(X)]$"
   ]
  },
  {
   "cell_type": "markdown",
   "metadata": {},
   "source": [
    "$Y_0transposto = [Y_{10},Y_{20}, ... , Y_{n0}]$"
   ]
  },
  {
   "cell_type": "markdown",
   "metadata": {},
   "source": [
    "Logo o sistema fica:"
   ]
  },
  {
   "cell_type": "markdown",
   "metadata": {},
   "source": [
    "$Y' = F(X,Y) , X_0=a <= x <= b$"
   ]
  },
  {
   "cell_type": "markdown",
   "metadata": {},
   "source": [
    "$Y(X_0) = Y_0$"
   ]
  },
  {
   "cell_type": "markdown",
   "metadata": {},
   "source": [
    "Podemos aplicar métodos como o método da śerie de taylor, R-K para resolver o PVI\n",
    "\n"
   ]
  }
 ],
 "metadata": {
  "kernelspec": {
   "display_name": "Python 3",
   "language": "python",
   "name": "python3"
  },
  "language_info": {
   "codemirror_mode": {
    "name": "ipython",
    "version": 3
   },
   "file_extension": ".py",
   "mimetype": "text/x-python",
   "name": "python",
   "nbconvert_exporter": "python",
   "pygments_lexer": "ipython3",
   "version": "3.6.9"
  }
 },
 "nbformat": 4,
 "nbformat_minor": 2
}
